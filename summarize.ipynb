{
 "cells": [
  {
   "cell_type": "code",
   "execution_count": 8,
   "id": "585502f8",
   "metadata": {},
   "outputs": [],
   "source": [
    "import tkinter as tk\n",
    "import nltk\n",
    "from textblob import TextBlob\n",
    "from newspaper import Article\n",
    "nltk.download('punkt')"
   ]
  },
  {
   "cell_type": "code",
   "execution_count": null,
   "id": "5a3578c3",
   "metadata": {},
   "outputs": [],
   "source": [
    "# summarization\n",
    "url = ''\n",
    "\n",
    "article = Article(url)\n",
    "\n",
    "article.download()\n",
    "\n",
    "article.parse()\n",
    "\n",
    "article.nlp()\n",
    "\n",
    "print(f\"Title: {article.title}\")\n",
    "print(f\"Author: {article.authors}\")\n",
    "print(f\"Publication Date: {article.publish_date}\")\n",
    "print(f\"Title: {article.summary}\")\n"
   ]
  },
  {
   "cell_type": "code",
   "execution_count": null,
   "id": "379aeac2",
   "metadata": {},
   "outputs": [],
   "source": [
    "# sentiment analysis\n",
    "\n",
    "analysis = TextBlob(article.text)\n",
    "print(analysis.polarity)"
   ]
  }
 ],
 "metadata": {
  "kernelspec": {
   "display_name": "PythonData",
   "language": "python",
   "name": "pythondata"
  },
  "language_info": {
   "codemirror_mode": {
    "name": "ipython",
    "version": 3
   },
   "file_extension": ".py",
   "mimetype": "text/x-python",
   "name": "python",
   "nbconvert_exporter": "python",
   "pygments_lexer": "ipython3",
   "version": "3.9.7"
  }
 },
 "nbformat": 4,
 "nbformat_minor": 5
}
